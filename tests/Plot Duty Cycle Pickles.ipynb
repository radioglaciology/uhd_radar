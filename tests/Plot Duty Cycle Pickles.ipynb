{
 "cells": [
  {
   "cell_type": "code",
   "execution_count": null,
   "metadata": {},
   "outputs": [],
   "source": [
    "import pickle\n",
    "from ruamel.yaml import YAML as ym\n",
    "import pandas as pd\n",
    "import matplotlib\n",
    "import matplotlib.pyplot as plt"
   ]
  },
  {
   "cell_type": "code",
   "execution_count": null,
   "metadata": {},
   "outputs": [],
   "source": [
    "def load_old_style_pickle(pickle_path, config_path):\n",
    "    yaml = ym()\n",
    "    config = yaml.load(open(config_path))\n",
    "\n",
    "    # Old data format has a series of pickles, each containing one experiment of data\n",
    "    data = []\n",
    "    with open(pickle_path, \"rb\") as f:\n",
    "        while True:\n",
    "            try:\n",
    "                data.append(pickle.load(f))\n",
    "            except EOFError:\n",
    "                break\n",
    "    \n",
    "    # Convert to a pandas dataframe\n",
    "    df = pd.DataFrame(data)\n",
    "    df = df.drop_duplicates()\n",
    "    \n",
    "    df[\"duty_cycle\"] = config[\"CHIRP\"][\"rx_duration\"] / df[\"values\"]\n",
    "    df[\"error_rate\"] = df[\"n_error_list\"] / df[\"n_pulse_attempts\"]\n",
    "\n",
    "    return df\n",
    "\n",
    "def load_new_style_pickle(pickle_path):\n",
    "    with open(pickle_path, \"rb\") as f:\n",
    "        data = pickle.load(f)\n",
    "    \n",
    "    config = data[\"config\"]\n",
    "    data.pop(\"config\")\n",
    "\n",
    "    # Convert to a pandas dataframe\n",
    "    df = pd.DataFrame(data)\n",
    "    if \"values\" in df.columns:\n",
    "        df[\"pri\"] = df[\"values\"]\n",
    "    \n",
    "    df[\"duty_cycle\"] = config[\"CHIRP\"][\"rx_duration\"] / df[\"pri\"]\n",
    "    df[\"error_rate\"] = df[\"n_error_list\"] / df[\"n_pulse_attempts\"]\n",
    "\n",
    "    return df\n"
   ]
  },
  {
   "cell_type": "code",
   "execution_count": null,
   "metadata": {},
   "outputs": [],
   "source": [
    "config = data[0][\"config\"]\n",
    "# remove key from dictionary\n",
    "data[0].pop(\"config\")\n",
    "pd.DataFrame(data[0])"
   ]
  },
  {
   "cell_type": "code",
   "execution_count": null,
   "metadata": {},
   "outputs": [],
   "source": [
    "duty_cycle_pickles = [\n",
    "    # (path to pickle, label, is it in the new data format?)\n",
    "    (\"/media/thomas/Extreme SSD/orca_paper_data_files/duty_cycle/x310/20231220_114225_error_code_late_command.pickle\", \"X310, 10 Gbit Ethernet, Laptop\", False),\n",
    "    (\"/media/thomas/Extreme SSD/orca_paper_data_files/duty_cycle/b205/20240227_200503_error_code_late_command.pickle\", \"B205, USB 3, Laptop\", False),\n",
    "    (\"/media/thomas/Extreme SSD/orca_paper_data_files/duty_cycle/x310/20231010_044215_error_code_late_command.pickle\", \"X310, 1 Gbit Ethernet, Laptop\", True),\n",
    "    (\"/media/thomas/Extreme SSD/orca_paper_data_files/duty_cycle/b205/20240227_142644_error_code_late_command.pickle\", \"B205, USB 3, Pi 4\", False),\n",
    "]\n",
    "\n",
    "config_path = \"/media/thomas/Extreme SSD/orca_paper_data_files/duty_cycle/b205/duty_cycle_b205.yaml\"\n",
    "\n",
    "duty_cycle_dfs = {}\n",
    "\n",
    "for path, label, is_new_format in duty_cycle_pickles:\n",
    "    if is_new_format:\n",
    "        df = load_new_style_pickle(path)\n",
    "    else:\n",
    "        df = load_old_style_pickle(path, config_path)\n",
    "    duty_cycle_dfs[label] = df"
   ]
  },
  {
   "cell_type": "code",
   "execution_count": null,
   "metadata": {},
   "outputs": [],
   "source": [
    "matplotlib.rcParams.update({\n",
    "        'font.size': 16,\n",
    "        'legend.fontsize': 10,\n",
    "        'lines.linewidth': 2,\n",
    "    })\n",
    "\n",
    "fig, ax = plt.subplots(figsize=(6, 5))\n",
    "\n",
    "markers = ['s', 'D', '*', 'p']\n",
    "\n",
    "for marker, (label, df) in zip(markers, duty_cycle_dfs.items()):\n",
    "    ax.plot(100*df[\"duty_cycle\"], 100*df[\"error_rate\"], label=label, marker=marker)\n",
    "\n",
    "ax.set_xlabel(\"Duty cycle [%]\")\n",
    "ax.set_ylabel(\"Error rate [%]\")\n",
    "ax.grid(True)\n",
    "ax.set_ylim(0, 25)\n",
    "ax.set_xlim(0, 100)\n",
    "\n",
    "ax.legend(bbox_to_anchor=(0.5, 1.3), loc=\"upper center\", ncol=2)\n",
    "\n",
    "fig.tight_layout()\n",
    "fig.savefig('duty_cycle_comparison.png', dpi=300)\n",
    "plt.show()"
   ]
  },
  {
   "cell_type": "code",
   "execution_count": null,
   "metadata": {},
   "outputs": [],
   "source": []
  }
 ],
 "metadata": {
  "kernelspec": {
   "display_name": "Python 3",
   "language": "python",
   "name": "python3"
  },
  "language_info": {
   "codemirror_mode": {
    "name": "ipython",
    "version": 3
   },
   "file_extension": ".py",
   "mimetype": "text/x-python",
   "name": "python",
   "nbconvert_exporter": "python",
   "pygments_lexer": "ipython3",
   "version": "3.11.3"
  }
 },
 "nbformat": 4,
 "nbformat_minor": 2
}
