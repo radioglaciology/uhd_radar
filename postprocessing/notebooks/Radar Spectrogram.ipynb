{
 "cells": [
  {
   "cell_type": "code",
   "execution_count": null,
   "metadata": {},
   "outputs": [],
   "source": [
    "%load_ext autoreload\n",
    "%autoreload 2"
   ]
  },
  {
   "cell_type": "code",
   "execution_count": null,
   "metadata": {},
   "outputs": [],
   "source": [
    "from dask.distributed import Client, LocalCluster\n",
    "\n",
    "client = Client() # Note that `memory_limit` is the limit **per worker**.\n",
    "# n_workers=4,\n",
    "#                 threads_per_worker=1,\n",
    "#                 memory_limit='3GB'\n",
    "client # If you click the dashboard link in the output, you can monitor real-time progress and get other cool visualizations."
   ]
  },
  {
   "cell_type": "code",
   "execution_count": null,
   "metadata": {},
   "outputs": [],
   "source": [
    "import os\n",
    "import copy\n",
    "import sys\n",
    "import xarray as xr\n",
    "import numpy as np\n",
    "import dask.array as da\n",
    "\n",
    "import matplotlib.pyplot as plt\n",
    "import hvplot.xarray\n",
    "import scipy.constants\n",
    "from scipy import signal\n",
    "\n",
    "sys.path.append(\"..\")\n",
    "import processing_dask as pr\n",
    "import plot_dask\n",
    "import processing as old_processing\n",
    "\n",
    "sys.path.append(\"../../preprocessing/\")\n",
    "from generate_chirp import generate_chirp"
   ]
  },
  {
   "cell_type": "code",
   "execution_count": null,
   "metadata": {},
   "outputs": [],
   "source": [
    "# file path to data and configs\n",
    "\n",
    "#prefix = \"/home/radioglaciology/thomas/radar_data/20220903-vatnajokull-day4/20220903_033000\" # Vatnajokull flight\n",
    "#prefix = \"/home/radioglaciology/thomas/radar_data/20230315-slakbreen-day3/20230315_064228\" # Slakbreen flight\n",
    "\n",
    "\n",
    "#prefix = \"/home/radioglaciology/thomas/radar_data/20230721-summit-day1-bench/20230721_104552\"\n",
    "#prefix = \"/home/radioglaciology/thomas/radar_data/20230723-summit-day3-2start/20230723_103641\"\n",
    "#prefix = \"/home/radioglaciology/thomas/radar_data/20230723-summit-day3-2start/20230723_103845\" # 6 db higher tx\n",
    "#prefix = \"/home/radioglaciology/thomas/radar_data/20230723-summit-day3-2start/20230723_104059\"\n",
    "#prefix = \"/home/radioglaciology/thomas/radar_data/20230723-summit-day3-2start/20230723_104248\" # another 6 db\n",
    "#prefix = \"/home/radioglaciology/thomas/radar_data/20230723-summit-day3-2start/20230723_104456\" # 3db higher rx\n",
    "#prefix = \"/home/radioglaciology/thomas/radar_data/20230723-summit-day3-2start/20230723_104742\" # 20 -> 30 mhz chirp bw\n",
    "#prefix = \"/home/radioglaciology/thomas/radar_data/20230723-summit-day3-2start/20230723_105025\" # bw back to 20, 15 mhz lo offset\n",
    "#prefix = \"/home/radioglaciology/thomas/radar_data/20230723-summit-day3-2start/20230723_105509\" # 100k pulses, 30 us transmit, 90 us rx\n",
    "#prefix = \"/home/radioglaciology/thomas/radar_data/20230723-summit-day3-2start/20230723_105921\" # 100k pulses, 10 us transmit, 90 us rx\n",
    "#prefix = \"/home/radioglaciology/thomas/radar_data/20230723-summit-day3-2start/20230723_110253\" # 100k pulses, 5 us transmit, 60 us rx\n",
    "\n",
    "#prefix = \"/media/radioglaciology/Extreme SSD/summit_2023_mapper/20230723_151432\" # 20 us transmit\n",
    "#prefix = \"/media/radioglaciology/Extreme SSD/summit_2023_mapper/20230723_153254\" # 10 us transmit\n",
    "#prefix = \"/media/radioglaciology/Extreme SSD/summit_2023_mapper/20230723_152404\" #  5 us transmit\n",
    "\n",
    "#prefix = \"/Volumes/Extreme SSD/Summit2023/08022023_anna/20230802_152434\" # mapper\n",
    "\n",
    "# NOISE FILES\n",
    "#prefix = \"/Volumes/Extreme SSD/lab_debugging/noise_bandwidth_data/20231115_140840\" # fs = 10 MHz, no filters\n",
    "\n",
    "prefix = \"/Volumes/T7 Shield/Summit2023/07252023_anna/20230725_161051\"\n",
    "\n",
    "# resave data as zarr for dask processing\n",
    "zarr_path = pr.save_radar_data_to_zarr(prefix)\n",
    "\n",
    "# open zarr file, adjust chunk size to be 10 MB - 1 GB based on sample rate/bit depth\n",
    "raw = xr.open_zarr(zarr_path, chunks={\"pulse_idx\": 1000})"
   ]
  },
  {
   "cell_type": "code",
   "execution_count": null,
   "metadata": {},
   "outputs": [],
   "source": [
    "n_stack = 1\n",
    "stacked = pr.stack(raw.chunk({'sample_idx': 1000}), n_stack).chunk({'sample_idx': -1})"
   ]
  },
  {
   "cell_type": "code",
   "execution_count": null,
   "metadata": {},
   "outputs": [],
   "source": [
    "start_time = 0 # 3e5\n",
    "input_data = stacked[\"radar_data\"].where(stacked.fast_time.compute() >= start_time, drop=True) #.where(stacked.slow_time <= 115, drop=True).where(stacked.slow_time >= 95, drop=True)\n",
    "\n",
    "f, t, S = scipy.signal.spectrogram(\n",
    "    input_data.to_numpy().T.flatten(),\n",
    "    fs=raw.attrs[\"config\"][\"GENERATE\"][\"sample_rate\"],\n",
    "    window='flattop',\n",
    "    nperseg=input_data.shape[0],\n",
    "    noverlap=0,\n",
    "    scaling='density', mode='psd',\n",
    "    return_onesided=False\n",
    ")"
   ]
  },
  {
   "cell_type": "code",
   "execution_count": null,
   "metadata": {},
   "outputs": [],
   "source": [
    "fig, ax = plt.subplots(facecolor='white', figsize=(10,6))\n",
    "freq_mhz = (np.fft.fftshift(f) + raw.attrs['config']['RF0']['freq']) / 1e6\n",
    "pcm = ax.pcolormesh(input_data.pulse_idx, freq_mhz, 20*np.log10(np.abs(np.fft.fftshift(S, axes=0))), shading='nearest')#, vmin=-400, vmax=-200)\n",
    "clb = fig.colorbar(pcm, ax=ax)\n",
    "clb.set_label('Power [dB]')\n",
    "#ax.set_xlabel('Slow Time [s]')\n",
    "ax.set_xlabel('Pulse Index')\n",
    "ax.set_ylabel('Frequency [MHz]')\n",
    "ax.set_title(f\"{os.path.basename(stacked.prefix)}\\nSpectrogram of received data with n_stack={n_stack},\\ntime gated to >={start_time} s fast time\")\n",
    "#ax.set_xlim(0, 1e-5)\n",
    "#ax.set_xlim(366000, 370000)"
   ]
  },
  {
   "cell_type": "code",
   "execution_count": null,
   "metadata": {},
   "outputs": [],
   "source": [
    "fig.savefig(f\"outputs/{os.path.basename(stacked.prefix)}-spectrogram-st-stack{n_stack}.png\")"
   ]
  },
  {
   "cell_type": "code",
   "execution_count": null,
   "metadata": {},
   "outputs": [],
   "source": [
    "len(raw.sample_idx)"
   ]
  },
  {
   "cell_type": "code",
   "execution_count": null,
   "metadata": {},
   "outputs": [],
   "source": [
    "input_data = stacked[\"radar_data\"].to_numpy().T.flatten()\n",
    "f, Pxx_den = signal.welch(input_data, \n",
    "                          fs=raw.attrs[\"config\"][\"GENERATE\"][\"sample_rate\"], \n",
    "                          nperseg=len(raw.sample_idx),\n",
    "                          detrend=False,\n",
    "                          scaling='density',\n",
    "                          return_onesided=False\n",
    "                         )"
   ]
  },
  {
   "cell_type": "code",
   "execution_count": null,
   "metadata": {},
   "outputs": [],
   "source": [
    "plt.semilogy(f, Pxx_den)\n",
    "#plt.ylim([0.5e-3, 1])\n",
    "plt.xlabel('frequency [Hz]')\n",
    "plt.ylabel('PSD [V**2/Hz]')\n",
    "#plt.xlim([-1e6, 1e6])\n",
    "plt.show()"
   ]
  },
  {
   "cell_type": "code",
   "execution_count": null,
   "metadata": {},
   "outputs": [],
   "source": [
    "plt.plot(f, 10*np.log10(Pxx_den))\n",
    "plt.show()"
   ]
  },
  {
   "cell_type": "code",
   "execution_count": null,
   "metadata": {},
   "outputs": [],
   "source": []
  }
 ],
 "metadata": {
  "kernelspec": {
   "display_name": "sprinkles",
   "language": "python",
   "name": "sprinkles"
  },
  "language_info": {
   "codemirror_mode": {
    "name": "ipython",
    "version": 3
   },
   "file_extension": ".py",
   "mimetype": "text/x-python",
   "name": "python",
   "nbconvert_exporter": "python",
   "pygments_lexer": "ipython3",
   "version": "3.9.7"
  }
 },
 "nbformat": 4,
 "nbformat_minor": 4
}
