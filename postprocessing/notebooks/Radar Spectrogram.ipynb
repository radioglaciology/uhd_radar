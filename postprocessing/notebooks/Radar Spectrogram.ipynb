{
 "cells": [
  {
   "cell_type": "code",
   "execution_count": null,
   "metadata": {},
   "outputs": [],
   "source": [
    "%load_ext autoreload\n",
    "%autoreload 2"
   ]
  },
  {
   "cell_type": "code",
   "execution_count": null,
   "metadata": {},
   "outputs": [],
   "source": [
    "from dask.distributed import Client, LocalCluster\n",
    "\n",
    "client = Client() # Note that `memory_limit` is the limit **per worker**.\n",
    "# n_workers=4,\n",
    "#                 threads_per_worker=1,\n",
    "#                 memory_limit='3GB'\n",
    "client # If you click the dashboard link in the output, you can monitor real-time progress and get other cool visualizations."
   ]
  },
  {
   "cell_type": "code",
   "execution_count": null,
   "metadata": {},
   "outputs": [],
   "source": [
    "import os\n",
    "import copy\n",
    "import sys\n",
    "import xarray as xr\n",
    "import numpy as np\n",
    "import dask.array as da\n",
    "\n",
    "import matplotlib.pyplot as plt\n",
    "import hvplot.xarray\n",
    "import scipy.constants\n",
    "\n",
    "sys.path.append(\"..\")\n",
    "import processing_dask as pr\n",
    "import plot_dask\n",
    "import processing as old_processing\n",
    "\n",
    "sys.path.append(\"../../preprocessing/\")\n",
    "from generate_chirp import generate_chirp"
   ]
  },
  {
   "cell_type": "code",
   "execution_count": null,
   "metadata": {},
   "outputs": [],
   "source": [
    "# file path to data and configs\n",
    "\n",
    "#prefix = \"/home/radioglaciology/thomas/radar_data/20220903-vatnajokull-day4/20220903_033000\" # Vatnajokull flight\n",
    "#prefix = \"/home/radioglaciology/thomas/radar_data/20230315-slakbreen-day3/20230315_064228\" # Slakbreen flight\n",
    "\n",
    "\n",
    "#prefix = \"/home/radioglaciology/thomas/radar_data/20230721-summit-day1-bench/20230721_104552\"\n",
    "#prefix = \"/home/radioglaciology/thomas/radar_data/20230723-summit-day3-2start/20230723_103641\"\n",
    "#prefix = \"/home/radioglaciology/thomas/radar_data/20230723-summit-day3-2start/20230723_103845\" # 6 db higher tx\n",
    "#prefix = \"/home/radioglaciology/thomas/radar_data/20230723-summit-day3-2start/20230723_104059\"\n",
    "#prefix = \"/home/radioglaciology/thomas/radar_data/20230723-summit-day3-2start/20230723_104248\" # another 6 db\n",
    "#prefix = \"/home/radioglaciology/thomas/radar_data/20230723-summit-day3-2start/20230723_104456\" # 3db higher rx\n",
    "#prefix = \"/home/radioglaciology/thomas/radar_data/20230723-summit-day3-2start/20230723_104742\" # 20 -> 30 mhz chirp bw\n",
    "#prefix = \"/home/radioglaciology/thomas/radar_data/20230723-summit-day3-2start/20230723_105025\" # bw back to 20, 15 mhz lo offset\n",
    "#prefix = \"/home/radioglaciology/thomas/radar_data/20230723-summit-day3-2start/20230723_105509\" # 100k pulses, 30 us transmit, 90 us rx\n",
    "#prefix = \"/home/radioglaciology/thomas/radar_data/20230723-summit-day3-2start/20230723_105921\" # 100k pulses, 10 us transmit, 90 us rx\n",
    "#prefix = \"/home/radioglaciology/thomas/radar_data/20230723-summit-day3-2start/20230723_110253\" # 100k pulses, 5 us transmit, 60 us rx\n",
    "\n",
    "#prefix = \"/media/radioglaciology/Extreme SSD/summit_2023_mapper/20230723_151432\" # 20 us transmit\n",
    "#prefix = \"/media/radioglaciology/Extreme SSD/summit_2023_mapper/20230723_153254\" # 10 us transmit\n",
    "#prefix = \"/media/radioglaciology/Extreme SSD/summit_2023_mapper/20230723_152404\" #  5 us transmit\n",
    "\n",
    "#prefix = \"/media/radioglaciology/Extreme SSD/summit_2023_mapper/07252023/20230725_161051\" # mapper\n",
    "\n",
    "#prefix = \"/Volumes/Extreme SSD/Summit2023/07232023_anna/20230723_151432\"\n",
    "#prefix = \"/Volumes/Extreme SSD/Summit2023/07252023_anna/20230725_141923\"\n",
    "\n",
    "\n",
    "prefix = \"/home/thomas/Documents/StanfordGrad/RadioGlaciology/eyas/radar_data/20231031_testing/20231031_203731\"\n",
    "\n",
    "\n",
    "# resave data as zarr for dask processing\n",
    "zarr_path = pr.save_radar_data_to_zarr(prefix)\n",
    "\n",
    "# open zarr file, adjust chunk size to be 10 MB - 1 GB based on sample rate/bit depth\n",
    "raw = xr.open_zarr(zarr_path, chunks={\"pulse_idx\": 1, \"sample_idx\": 10000})"
   ]
  },
  {
   "cell_type": "code",
   "execution_count": null,
   "metadata": {},
   "outputs": [],
   "source": [
    "n_stack = 1\n",
    "stacked = pr.stack(raw.chunk({'sample_idx': 1000}), n_stack).chunk({'sample_idx': -1, })"
   ]
  },
  {
   "cell_type": "markdown",
   "metadata": {},
   "source": [
    "## Fast time spectrogram"
   ]
  },
  {
   "cell_type": "code",
   "execution_count": null,
   "metadata": {},
   "outputs": [],
   "source": [
    "n_fft = 1024\n",
    "n_decimate = 500\n",
    "\n",
    "rx_samples = raw[{'pulse_idx': 1}]['radar_data']\n",
    "\n",
    "blocks = rx_samples.coarsen(sample_idx=(n_fft), boundary='trim').construct(sample_idx=('sample_group', 'sample'))\n",
    "blocks = blocks[::n_decimate, :]\n",
    "\n",
    "spectrogram_data = xr.apply_ufunc(\n",
    "    lambda x: da.fft.fftshift(da.fft.fft(x, axis=-1), axes=-1),\n",
    "    blocks,\n",
    "    input_core_dims=[['sample']], # The dimension operated over -- aka \"don't vectorize over this\"\n",
    "    output_core_dims=[[\"frequency\"]], # The output dimensions of the lambda function itself\n",
    "    exclude_dims=set((\"sample\",)), # Dimensions to not vectorize over\n",
    "    vectorize=False, # Vectorize other dimensions using a call to np.vectorize\n",
    "    dask=\"allowed\", # Allow dask to chunk and parallelize the computation\n",
    ").assign_coords({'frequency': np.fft.fftshift(np.fft.fftfreq(n_fft, d=1/raw.attrs['config']['GENERATE']['sample_rate']))})\n",
    "\n",
    "\n",
    "spectrogram_data"
   ]
  },
  {
   "cell_type": "code",
   "execution_count": null,
   "metadata": {},
   "outputs": [],
   "source": [
    "spectrogram_data = spectrogram_data.compute()\n",
    "spectrogram_data"
   ]
  },
  {
   "cell_type": "code",
   "execution_count": null,
   "metadata": {},
   "outputs": [],
   "source": [
    "fig, ax = plt.subplots(facecolor='white', figsize=(10,6))\n",
    "pcm = ax.pcolormesh(spectrogram_data.sample_group, spectrogram_data.frequency / 1e6, 20*np.log10(np.abs(spectrogram_data)).T, shading='nearest')#, vmin=-400, vmax=-200)\n",
    "clb = fig.colorbar(pcm, ax=ax)\n",
    "clb.set_label('Power [dB]')\n",
    "#ax.set_xlabel('Slow Time [s]')\n",
    "ax.set_xlabel(\"Non-dimensional time\\n(as in I haven't figured out the right dimensions yet)\")\n",
    "ax.set_ylabel('Frequency [MHz]')\n",
    "ax.set_title(\"Single recording\")"
   ]
  },
  {
   "cell_type": "markdown",
   "metadata": {},
   "source": [
    "## Slow time spectrogram"
   ]
  },
  {
   "cell_type": "code",
   "execution_count": null,
   "metadata": {},
   "outputs": [],
   "source": [
    "start_time = 0e-6 # 3e5\n",
    "input_data = stacked[\"radar_data\"].where(stacked.fast_time.compute() >= start_time, drop=True) #.where(stacked.slow_time <= 115, drop=True).where(stacked.slow_time >= 95, drop=True)\n",
    "\n",
    "f, t, S = scipy.signal.spectrogram(\n",
    "    input_data.to_numpy().T.flatten(),\n",
    "    fs=raw.attrs[\"config\"][\"GENERATE\"][\"sample_rate\"],\n",
    "    window='flattop',\n",
    "    nperseg=input_data.shape[0],\n",
    "    noverlap=0,\n",
    "    scaling='density', mode='psd',\n",
    "    return_onesided=False\n",
    ")"
   ]
  },
  {
   "cell_type": "code",
   "execution_count": null,
   "metadata": {},
   "outputs": [],
   "source": [
    "fig, ax = plt.subplots(facecolor='white', figsize=(10,6))\n",
    "freq_mhz = (np.fft.fftshift(f) + raw.attrs['config']['RF0']['freq']) / 1e6\n",
    "pcm = ax.pcolormesh(input_data.pulse_idx, freq_mhz, 20*np.log10(np.abs(np.fft.fftshift(S, axes=0))), shading='nearest')#, vmin=-400, vmax=-200)\n",
    "clb = fig.colorbar(pcm, ax=ax)\n",
    "clb.set_label('Power [dB]')\n",
    "#ax.set_xlabel('Slow Time [s]')\n",
    "ax.set_xlabel('Pulse Index')\n",
    "ax.set_ylabel('Frequency [MHz]')\n",
    "ax.set_title(f\"{os.path.basename(stacked.prefix)}\\nSpectrogram of received data with n_stack={n_stack},\\ntime gated to >={start_time} s fast time\")\n",
    "#ax.set_xlim(0, 1e-5)\n",
    "#ax.set_xlim(50000, 100000)"
   ]
  },
  {
   "cell_type": "code",
   "execution_count": null,
   "metadata": {},
   "outputs": [],
   "source": [
    "#fig.savefig(f\"/Users/abroome/Desktop/Summit2023/figs/{raw.basename}-spectrogram-st-stack{n_stack}_gating.png\")"
   ]
  },
  {
   "cell_type": "code",
   "execution_count": null,
   "metadata": {},
   "outputs": [],
   "source": []
  }
 ],
 "metadata": {
  "kernelspec": {
   "display_name": "rg2",
   "language": "python",
   "name": "python3"
  },
  "language_info": {
   "codemirror_mode": {
    "name": "ipython",
    "version": 3
   },
   "file_extension": ".py",
   "mimetype": "text/x-python",
   "name": "python",
   "nbconvert_exporter": "python",
   "pygments_lexer": "ipython3",
   "version": "3.11.3"
  }
 },
 "nbformat": 4,
 "nbformat_minor": 4
}
