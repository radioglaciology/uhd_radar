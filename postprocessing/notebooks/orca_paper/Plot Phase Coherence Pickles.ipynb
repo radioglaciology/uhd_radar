{
 "cells": [
  {
   "cell_type": "code",
   "execution_count": null,
   "metadata": {},
   "outputs": [],
   "source": [
    "import pickle\n",
    "import numpy as np\n",
    "import matplotlib.pyplot as plt\n",
    "import matplotlib"
   ]
  },
  {
   "cell_type": "code",
   "execution_count": null,
   "metadata": {},
   "outputs": [],
   "source": [
    "matplotlib.rcParams.update({\n",
    "        'font.size': 16,\n",
    "        'legend.fontsize': 10,\n",
    "        'lines.linewidth': 2,\n",
    "    })"
   ]
  },
  {
   "cell_type": "code",
   "execution_count": null,
   "metadata": {},
   "outputs": [],
   "source": [
    "pickle_paths = [\n",
    "    (\"B205\", \"/media/thomas/Extreme SSD/orca_paper_data_files/phase_noise/b205/20240222_203345_stacking_stats_20240228_161251_bin187.pickle\"),\n",
    "    (\"X310\", \"/media/thomas/Extreme SSD/orca_paper_data_files/phase_noise/x310/20240222_143225-phase-noise-stats.pickle\")\n",
    "]\n",
    "\n",
    "phase_stats = []\n",
    "\n",
    "for name, path in pickle_paths:\n",
    "    with open(path, \"rb\") as f:\n",
    "        s = pickle.load(f)\n",
    "        for k in list(s.keys()):\n",
    "            s[\"stack_\"+k] = s[k]\n",
    "        phase_stats.append((name, s))\n"
   ]
  },
  {
   "cell_type": "markdown",
   "metadata": {},
   "source": [
    "### Comparison plot"
   ]
  },
  {
   "cell_type": "code",
   "execution_count": null,
   "metadata": {},
   "outputs": [],
   "source": [
    "fig, ax_pwr = plt.subplots(figsize=(6, 4))\n",
    "\n",
    "for (title, data) in phase_stats:\n",
    "    pwr_normalized = data[\"stack_signal_peak_pwr_mean\"] / data[\"stack_signal_peak_pwr_mean\"][0]\n",
    "    pwr_db_normalized = 10*np.log10(pwr_normalized)\n",
    "\n",
    "    std_upper = 10*np.log10((data[\"stack_signal_peak_pwr_mean\"] + np.sqrt(data[\"stack_signal_peak_pwr_variance\"]))/data[\"stack_signal_peak_pwr_mean\"][0])\n",
    "    std_lower = 10*np.log10((data[\"stack_signal_peak_pwr_mean\"] - np.sqrt(data[\"stack_signal_peak_pwr_variance\"]))/data[\"stack_signal_peak_pwr_mean\"][0])\n",
    "    \n",
    "    l = ax_pwr.plot(data[\"actual_stack_t\"], pwr_db_normalized, label=title+\" Mean\")\n",
    "    c = l[0].get_color()\n",
    "    ax_pwr.plot(data[\"actual_stack_t\"], std_upper, linestyle=\"--\", color=c, linewidth=1, label=\"+/- 1 Std Dev\")\n",
    "    ax_pwr.plot(data[\"actual_stack_t\"], std_lower, linestyle=\"--\", color=c, linewidth=1)\n",
    "\n",
    "    #ax_pwr.fill_between(data[\"actual_stack_t\"], std_lower, std_upper, alpha=0.5)\n",
    "\n",
    "ax_pwr.set_ylabel(\"Signal Power [dB]\\n(relative to single pulse)\")\n",
    "ax_pwr.set_xlabel(\"Wall Clock Integration Time [s]\")\n",
    "ax_pwr.semilogx()\n",
    "ax_pwr.legend()\n",
    "ax_pwr.grid(True)\n",
    "\n",
    "fig.tight_layout()\n",
    "fig.savefig(\"phase_noise_summary.png\", dpi=300)\n",
    "plt.show()"
   ]
  },
  {
   "cell_type": "markdown",
   "metadata": {},
   "source": [
    "### Single file plot"
   ]
  },
  {
   "cell_type": "code",
   "execution_count": null,
   "metadata": {},
   "outputs": [],
   "source": [
    "stats = phase_stats[1]\n",
    "data = stats[1]\n",
    "title = stats[0]\n",
    "print(title)\n",
    "\n",
    "fig, ax_pwr = plt.subplots(figsize=(6, 4))\n",
    "\n",
    "ax_pwr.plot(data[\"actual_stack_t\"], data[\"stack_signal_peak_pwr_mean\"])\n",
    "# Add a shaded region for the variance\n",
    "ax_pwr.fill_between(data[\"actual_stack_t\"], data[\"stack_signal_peak_pwr_mean\"] - np.sqrt(data[\"stack_signal_peak_pwr_variance\"]),\n",
    "                    data[\"stack_signal_peak_pwr_mean\"] + np.sqrt(data[\"stack_signal_peak_pwr_variance\"]), alpha=0.4)\n",
    "ax_pwr.set_title(\"Signal Power\")\n",
    "ax_pwr.loglog()\n",
    "ax_pwr.grid(True)\n",
    "\n",
    "\n",
    "plt.show()"
   ]
  },
  {
   "cell_type": "code",
   "execution_count": null,
   "metadata": {},
   "outputs": [],
   "source": []
  }
 ],
 "metadata": {
  "kernelspec": {
   "display_name": "Python 3",
   "language": "python",
   "name": "python3"
  },
  "language_info": {
   "codemirror_mode": {
    "name": "ipython",
    "version": 3
   },
   "file_extension": ".py",
   "mimetype": "text/x-python",
   "name": "python",
   "nbconvert_exporter": "python",
   "pygments_lexer": "ipython3",
   "version": "3.11.3"
  }
 },
 "nbformat": 4,
 "nbformat_minor": 2
}
