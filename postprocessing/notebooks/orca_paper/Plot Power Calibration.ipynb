{
 "cells": [
  {
   "cell_type": "code",
   "execution_count": null,
   "metadata": {},
   "outputs": [],
   "source": [
    "import numpy as np\n",
    "import matplotlib.pyplot as plt\n",
    "import matplotlib\n",
    "import pickle\n",
    "import os"
   ]
  },
  {
   "cell_type": "code",
   "execution_count": null,
   "metadata": {},
   "outputs": [],
   "source": [
    "# data dictionaries are [gain][frequency][inpt_power] = (output_power OR list of output powers)\n",
    "\n",
    "def correct_for_attenuation(d, attenuation, min_input_power = None):\n",
    "    for g in d:\n",
    "        for f in d[g]:\n",
    "            new_data = {}\n",
    "            for inpt_pwr in d[g][f]:\n",
    "                if min_input_power and (inpt_pwr < min_input_power):\n",
    "                    continue\n",
    "                new_data[inpt_pwr - attenuation] = d[g][f][inpt_pwr]\n",
    "            d[g][f] = new_data\n",
    "\n",
    "def merge_data(cal_data, d):\n",
    "    for g in d:\n",
    "        if not g in cal_data:\n",
    "            cal_data[g] = {}\n",
    "        for f in d[g]:\n",
    "            if not f in cal_data[g]:\n",
    "                cal_data[g][f] = {}\n",
    "            for inpt_pwr in d[g][f]:\n",
    "                if not inpt_pwr in cal_data[g][f]:\n",
    "                    cal_data[g][f][inpt_pwr] = []\n",
    "                cal_data[g][f][inpt_pwr].append(d[g][f][inpt_pwr])\n"
   ]
  },
  {
   "cell_type": "code",
   "execution_count": null,
   "metadata": {},
   "outputs": [],
   "source": [
    "base_dir = \"/media/thomas/Extreme SSD/orca_paper_data_files/power_calibration/b205/20210513-cal-data-2\"\n",
    "input_files_b205 = {\n",
    "    os.path.join(base_dir, \"power_calibration_data_10_atten_1.pickle\"): 10,\n",
    "    os.path.join(base_dir, \"power_calibration_data_40_atten_1.pickle\"): 40,\n",
    "    os.path.join(base_dir, \"power_calibration_data_70_atten_1.pickle\"): 70,\n",
    "    os.path.join(base_dir, \"power_calibration_data_80_atten_1.pickle\"): 80,\n",
    "}\n",
    "rigol_min_input_power = -25 # Minimum (uncorrect) input where where the signal generator has sufficient SNR for the measurement\n",
    "\n",
    "input_files = {'/media/thomas/Extreme SSD/orca_paper_data_files/power_calibration/x310/20231208/power_calibration_data_dbA_rfsiggen.pickle': 0}\n",
    "sig_gen_min_input_power = None\n",
    "\n",
    "def load_cal_data(input_files, min_input_power):\n",
    "    cal_data = {}\n",
    "    for idx, path in enumerate(input_files):\n",
    "        with open(path, 'rb') as f:\n",
    "            d = pickle.load(f)\n",
    "        if idx == len(input_files) - 1:\n",
    "            min_input_power = None # No other data available, so don't enforce a minimum SNR for the highest attenuation measurement\n",
    "        correct_for_attenuation(d, input_files[path], min_input_power=min_input_power)\n",
    "        merge_data(cal_data, d)\n",
    "    return cal_data\n",
    "\n",
    "cal_data_b205 = load_cal_data(input_files_b205, rigol_min_input_power)[36] # Pick a single gain value to plot\n",
    "cal_data_x310 = load_cal_data(input_files, sig_gen_min_input_power)[30]\n",
    "\n",
    "freqs_to_plot = np.array([50e6, 450e6])"
   ]
  },
  {
   "cell_type": "code",
   "execution_count": null,
   "metadata": {},
   "outputs": [],
   "source": [
    "matplotlib.rcParams.update({\n",
    "        'font.size': 16,\n",
    "        'legend.fontsize': 10,\n",
    "        'lines.linewidth': 2,\n",
    "    })"
   ]
  },
  {
   "cell_type": "code",
   "execution_count": null,
   "metadata": {},
   "outputs": [],
   "source": [
    "fig, ax = plt.subplots(figsize=(6,4), facecolor='white')\n",
    "\n",
    "linestyles = ['-', ':']\n",
    "\n",
    "for idx, freq in enumerate(freqs_to_plot):\n",
    "    inpt_pwrs = list(cal_data_b205[freq].keys())\n",
    "    inpt_pwrs.sort()\n",
    "    ax.plot(inpt_pwrs, [np.mean(cal_data_b205[freq][x]) for x in inpt_pwrs], label = f'[B205] {freq/1000000} MHz', linestyle=linestyles[idx], color='C0')#, marker='o', markersize=4)\n",
    "\n",
    "    inpt_pwrs = list(cal_data_x310[freq].keys())\n",
    "    inpt_pwrs.sort()\n",
    "    ax.plot(inpt_pwrs, [np.mean(cal_data_x310[freq][x]) for x in inpt_pwrs], label = f'[X310] {freq/1000000} MHz', linestyle=linestyles[idx], color='C1')#, marker='o', markersize=4)\n",
    "ax.set_xlabel('Input Power [dBm]')\n",
    "ax.set_ylabel('SDR Recorded Power [dBFS]')\n",
    "ax.legend()\n",
    "ax.grid()\n",
    "ax.set_xlim(-110, -20)\n",
    "fig.tight_layout()\n",
    "#fig.savefig('power_calibration.png', dpi=300)\n",
    "plt.show()"
   ]
  },
  {
   "cell_type": "code",
   "execution_count": null,
   "metadata": {},
   "outputs": [],
   "source": []
  }
 ],
 "metadata": {
  "kernelspec": {
   "display_name": "Python 3",
   "language": "python",
   "name": "python3"
  },
  "language_info": {
   "codemirror_mode": {
    "name": "ipython",
    "version": 3
   },
   "file_extension": ".py",
   "mimetype": "text/x-python",
   "name": "python",
   "nbconvert_exporter": "python",
   "pygments_lexer": "ipython3",
   "version": "3.11.3"
  }
 },
 "nbformat": 4,
 "nbformat_minor": 2
}
