{
 "cells": [
  {
   "cell_type": "code",
   "execution_count": 51,
   "id": "9b3ac471-a786-4ccd-bdab-b0a7fdde8467",
   "metadata": {
    "tags": []
   },
   "outputs": [],
   "source": [
    "%load_ext autoreload\n",
    "%autoreload 2"
   ]
  },
  {
   "cell_type": "code",
   "execution_count": 52,
   "id": "6273bd01-f8a9-4b09-932a-52372d7b6678",
   "metadata": {
    "tags": []
   },
   "outputs": [],
   "source": [
    "from dask.distributed import Client, LocalCluster\n",
    "\n",
    "client = Client() # Note that `memory_limit` is the limit **per worker**.\n",
    "# n_workers=4,\n",
    "#                 threads_per_worker=1,\n",
    "#                 memory_limit='3GB'\n",
    "client # If you click the dashboard link in the output, you can monitor real-time progress and get other cool visualizations."
   ]
  },
  {
   "cell_type": "code",
   "execution_count": 53,
   "id": "770f50ea-f019-46de-a38c-aafcd483e9c3",
   "metadata": {},
   "outputs": [],
   "source": [
    "import copy\n",
    "import sys\n",
    "import xarray as xr\n",
    "import numpy as np\n",
    "import dask.array as da\n",
    "\n",
    "import matplotlib.pyplot as plt\n",
    "import hvplot.xarray\n",
    "import scipy.constants\n",
    "import scipy.signal as signal\n",
    "import pickle\n",
    "import holoviews as hv\n",
    "\n",
    "sys.path.append(\"..\")\n",
    "import processing_dask as pr\n",
    "import plot_dask\n",
    "import processing as old_processing\n",
    "\n",
    "sys.path.append(\"../../preprocessing/\")\n",
    "from generate_chirp import generate_chirp"
   ]
  },
  {
   "cell_type": "markdown",
   "id": "e70b6b7e-dcd8-4be1-b94c-a3cad899cd73",
   "metadata": {},
   "source": [
    "### Open and resave file"
   ]
  },
  {
   "cell_type": "code",
   "execution_count": null,
   "id": "7793fbfe-8a8c-47cc-b631-0534e3e1c19a",
   "metadata": {},
   "outputs": [],
   "source": [
    "# file path to data and configs\n",
    "\n",
    "prefix = \"/home/thomas/Documents/StanfordGrad/RadioGlaciology/drone/radar_data/20230723-summit-day3-2start/20230723_104248\"\n",
    "\n",
    "# resave data as zarr for dask processing\n",
    "zarr_base_location=\"/home/thomas/Documents/StanfordGrad/RadioGlaciology/test_tmp_zarr_cache/\"\n",
    "zarr_path = pr.save_radar_data_to_zarr(prefix, zarr_base_location=zarr_base_location)\n",
    "\n",
    "# open zarr file, adjust chunk size to be 10 MB - 1 GB based on sample rate/bit depth\n",
    "raw = xr.open_zarr(zarr_path, chunks={\"pulse_idx\": 1000})\n",
    "#raw = pr.invert_phase_dithering(raw, phase_codes_filename='/Users/abroome/Documents/SDR/uhd_radar/phases_1M.bin')\n"
   ]
  },
  {
   "cell_type": "markdown",
   "id": "6fb45450-15bd-4cf2-8311-709658955830",
   "metadata": {},
   "source": [
    "### Enter processing parameters"
   ]
  },
  {
   "cell_type": "code",
   "execution_count": null,
   "id": "38423415-95ee-450f-a1d6-7a0fe84a3e58",
   "metadata": {},
   "outputs": [],
   "source": [
    "#zero_sample_idx = 36 # X310, fs = 20 MHz\n",
    "zero_sample_idx = 63 # X310, fs = 50 MHz\n",
    "#zero_sample_idx = 81 # X310, fs = 100 MHz ????????\n",
    "#zero_sample_idx = 159 # B205mini, fs = 56 MHz\n",
    "#zero_sample_idx = 166 # B205mini, fs = 20 MHz\n",
    "\n",
    "nstack = 1 #len(raw.pulse_idx) # number of pulses to stack\n",
    "\n",
    "modify_rx_window = False # set to true if you want to window the reference chirp only on receive, false uses ref chirp as transmitted in config file\n",
    "rx_window = \"kaiser14\" # what you want to change the rx window to if modify_rx_window is true\n",
    "\n",
    "dielectric_constant = 3.17 # ice (air = 1, 66% velocity coax = 2.2957)\n",
    "#dielectric_constant = 2.2957 # COAX (air = 1, 66% velocity coax = 2.2957)\n",
    "sig_speed = scipy.constants.c / np.sqrt(dielectric_constant)"
   ]
  },
  {
   "cell_type": "markdown",
   "id": "b6ed8d87-89fa-4368-b5ca-ac5b6e6519f3",
   "metadata": {},
   "source": [
    "### Generate reference chirp"
   ]
  },
  {
   "cell_type": "code",
   "execution_count": null,
   "id": "707ddadf-7434-4cb4-906a-112b2c2ac3f0",
   "metadata": {},
   "outputs": [],
   "source": [
    "if modify_rx_window:\n",
    "    config = copy.deepcopy(raw.config)\n",
    "    config['GENERATE']['window'] = rx_window\n",
    "else:\n",
    "    config = raw.config\n",
    "    \n",
    "# config = copy.deepcopy(raw.config)\n",
    "# config['GENERATE']['lo_offset_sw'] = 12.5e6\n",
    "\n",
    "chirp_ts, ref_chirp = generate_chirp(config)"
   ]
  },
  {
   "cell_type": "markdown",
   "id": "b3fd7b34-72ad-4b65-9534-7a5b853ce430",
   "metadata": {},
   "source": [
    "### Filter reference chirp (optional)"
   ]
  },
  {
   "cell_type": "code",
   "execution_count": null,
   "id": "617d84c8-c591-4704-98cb-76bf83961c2a",
   "metadata": {},
   "outputs": [],
   "source": [
    "filter = signal.butter(1, 0.5e6, btype='highpass', output='sos', fs=config['GENERATE']['sample_rate'])\n",
    "\n",
    "ref_chirp = signal.sosfilt(filter, ref_chirp)"
   ]
  },
  {
   "cell_type": "markdown",
   "id": "4316fce6-9d32-4f90-99ee-c9aef2cc3a51",
   "metadata": {},
   "source": [
    "### View raw pulse in time domain to check for clipping"
   ]
  },
  {
   "cell_type": "code",
   "execution_count": null,
   "id": "19228216-c7f0-4f7c-a5c2-d63dc4973942",
   "metadata": {},
   "outputs": [],
   "source": [
    "plot1 = np.real(raw.radar_data[:,0]).hvplot.line(x='fast_time', label='Real') * np.imag(raw.radar_data[:,0]).hvplot.line(x='fast_time', label='Imaginary')\n",
    "\n",
    "plot1 = plot1.opts(xlabel='Fast Time (s)', ylabel='Raw Amplitude')\n",
    "plot1"
   ]
  },
  {
   "cell_type": "markdown",
   "id": "9b85eb39-f0f8-4329-83ce-456af3345685",
   "metadata": {},
   "source": [
    "### Clean and stack data"
   ]
  },
  {
   "cell_type": "code",
   "execution_count": null,
   "id": "fbe3f084-f365-4ff0-b9cf-8b0c070087c2",
   "metadata": {},
   "outputs": [],
   "source": [
    "stacked = pr.fill_errors(raw, error_fill_value=0.0) # fill receiver errors with 0s\n",
    "\n",
    "stacked = pr.stack(raw, nstack) # stack "
   ]
  },
  {
   "cell_type": "markdown",
   "id": "e2bcc4b2-c7f9-4cc3-b5fb-a60468d6715e",
   "metadata": {},
   "source": [
    "### Filter LO out of received data (optional)"
   ]
  },
  {
   "cell_type": "code",
   "execution_count": null,
   "id": "44598967-fe5b-4283-a741-4c66fd121c17",
   "metadata": {},
   "outputs": [],
   "source": [
    "filt_hp = signal.butter(1, 0.5e6, btype='highpass', output='sos', fs=config['GENERATE']['sample_rate'])\n",
    "\n",
    "filtered = xr.apply_ufunc(\n",
    "    lambda x: signal.sosfilt(filt_hp, x),\n",
    "    stacked,\n",
    "    dask=\"parallelized\"\n",
    ")"
   ]
  },
  {
   "cell_type": "code",
   "execution_count": null,
   "id": "33e487fc-1693-41fd-b7c4-345fe2cce5df",
   "metadata": {},
   "outputs": [],
   "source": [
    "freqs_filt, h = signal.sosfreqz(filt_hp, fs=config['GENERATE']['sample_rate'])\n",
    "\n",
    "# Plot magnitude response of the filter\n",
    "fig = plt.figure()\n",
    "plt.plot(freqs_filt/(1e6), 20 * np.log10(abs(h)),\n",
    "         'r', label='Bandpass filter', linewidth='2')\n",
    "plt.xlabel('Frequency [MHz]', fontsize=20)\n",
    "plt.ylabel('Magnitude [dB]', fontsize=20)\n",
    "plt.title('Filter', fontsize=20)\n",
    "plt.grid()"
   ]
  },
  {
   "cell_type": "markdown",
   "id": "536a830d-9022-46ef-86c2-38578ce27a38",
   "metadata": {},
   "source": [
    "### Pulse compress data"
   ]
  },
  {
   "cell_type": "code",
   "execution_count": null,
   "id": "3affa606-7ff1-4a0f-b919-acb0cbe591a3",
   "metadata": {},
   "outputs": [],
   "source": [
    "compressed = pr.pulse_compress(stacked, ref_chirp,\n",
    "                               fs=stacked.config['GENERATE']['sample_rate'],\n",
    "                               zero_sample_idx=zero_sample_idx,\n",
    "                               signal_speed=sig_speed)\n",
    "\n",
    "compressed_power = xr.apply_ufunc(\n",
    "    lambda x: 20*np.log10(np.abs(x)),\n",
    "    compressed,\n",
    "    dask=\"parallelized\"\n",
    ")"
   ]
  },
  {
   "cell_type": "markdown",
   "id": "0aa6043e-c392-437f-89bf-7a104240ec36",
   "metadata": {},
   "source": [
    "### View 1D pulse compressed data"
   ]
  },
  {
   "cell_type": "code",
   "execution_count": null,
   "id": "5347ab15-9815-4564-be5c-e4331947a102",
   "metadata": {},
   "outputs": [],
   "source": [
    "plot1D = compressed_power.radar_data[0,:].compute().hvplot.line()\n",
    "#plot1D = plot1D * compressed_power.radar_data[0,:].hvplot.line()\n",
    "# relevant options: xlim(-80,1000)\n",
    "\n",
    "plot1D = plot1D.opts(xlabel='Reflection Distance (m)', ylabel='Return Power (dB)', title=raw.basename)\n",
    "#plot1D.opts(xlim=(-50,200), ylim=(-120, -40), show_grid=True)\n",
    "plot1D"
   ]
  },
  {
   "cell_type": "code",
   "execution_count": null,
   "id": "043f6255-382a-4c4d-b95a-7227e539c9f8",
   "metadata": {},
   "outputs": [],
   "source": [
    "# USING MATPLOTLIB\n",
    "fig, ax = plt.subplots(1,1, figsize=(10,6), facecolor='white')\n",
    "ax.plot(compressed_power.reflection_distance, compressed_power.radar_data[0,:])\n",
    "ax.set_xlabel('Depth (m)')\n",
    "ax.set_ylabel('Return Power (dB)')\n",
    "ax.set_title(raw.basename)\n",
    "\n",
    "fig.savefig(f'/Users/abroome/Desktop/Summit2023/figs/{raw.basename}_pulse_compressed_n{nstack}.png', dpi=300)"
   ]
  },
  {
   "cell_type": "markdown",
   "id": "1981eed7-0a04-4013-ae25-503009b1d7f2",
   "metadata": {},
   "source": [
    "### View 2D pulse compressed data (radargram)"
   ]
  },
  {
   "cell_type": "code",
   "execution_count": null,
   "id": "52502998-2657-489a-b093-31ca3263dda6",
   "metadata": {},
   "outputs": [],
   "source": [
    "# USING HOLOVIEWS (sometimes breaks)\n",
    "plot2D = compressed_power.swap_dims({'pulse_idx': 'slow_time', 'travel_time': 'reflection_distance'}).hvplot.quadmesh(x='slow_time', cmap='inferno', flip_yaxis=True)\n",
    "# relevant options: ylim=(100,-50), clim=(-90,-40)\n",
    "\n",
    "plot2D.opts(xlabel='Slow Time (s)', ylabel='Depth (m)', clabel='Return Power (dB)')\n",
    "#plot2D.opts(ylim=(-10, 70), clim=(-120, -40))\n",
    "plot2D"
   ]
  },
  {
   "cell_type": "code",
   "execution_count": null,
   "id": "306dc22e-7ae4-4d59-a84a-969f98e5f305",
   "metadata": {},
   "outputs": [],
   "source": [
    "# USING MATPLOTLIB (sometimes takes a while)\n",
    "fig, ax = plt.subplots(1,1, figsize=(10,6), facecolor='white')\n",
    "\n",
    "p = ax.pcolormesh(compressed_power.slow_time, compressed_power.reflection_distance, compressed_power.radar_data.transpose(), shading='auto', cmap='inferno')\n",
    "ax.invert_yaxis()\n",
    "clb = fig.colorbar(p, ax=ax)\n",
    "clb.set_label('Return Power (dB)')\n",
    "ax.set_xlabel('Slow Time (s)')\n",
    "ax.set_ylabel('Distance to Reflector (m)')\n",
    "ax.set_title(f'{raw.basename}: nstack={nstack}')\n",
    "# relevant options: ax.set_ylim(100,-50), ax.set_xlim(0, 1), vmin=-90, vmax=40\n",
    "ax.set_ylim(1500,-50)"
   ]
  }
 ],
 "metadata": {
  "kernelspec": {
   "display_name": "sprinkles",
   "language": "python",
   "name": "sprinkles"
  },
  "language_info": {
   "codemirror_mode": {
    "name": "ipython",
    "version": 3
   },
   "file_extension": ".py",
   "mimetype": "text/x-python",
   "name": "python",
   "nbconvert_exporter": "python",
   "pygments_lexer": "ipython3",
   "version": "3.9.7"
  }
 },
 "nbformat": 4,
 "nbformat_minor": 5
}
