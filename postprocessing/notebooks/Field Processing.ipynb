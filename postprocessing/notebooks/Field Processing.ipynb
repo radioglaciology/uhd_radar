{
 "cells": [
  {
   "cell_type": "code",
   "execution_count": 51,
   "id": "9b3ac471-a786-4ccd-bdab-b0a7fdde8467",
   "metadata": {
    "tags": []
   },
   "outputs": [],
   "source": [
    "%load_ext autoreload\n",
    "%autoreload 2"
   ]
  },
  {
   "cell_type": "code",
   "execution_count": 52,
   "id": "6273bd01-f8a9-4b09-932a-52372d7b6678",
   "metadata": {
    "tags": []
   },
   "outputs": [],
   "source": [
    "from dask.distributed import Client, LocalCluster\n",
    "\n",
    "client = Client() # Note that `memory_limit` is the limit **per worker**.\n",
    "# n_workers=4,\n",
    "#                 threads_per_worker=1,\n",
    "#                 memory_limit='3GB'\n",
    "client # If you click the dashboard link in the output, you can monitor real-time progress and get other cool visualizations."
   ]
  },
  {
   "cell_type": "code",
   "execution_count": 53,
   "id": "770f50ea-f019-46de-a38c-aafcd483e9c3",
   "metadata": {},
   "outputs": [],
   "source": [
    "import copy\n",
    "import sys\n",
    "import xarray as xr\n",
    "import numpy as np\n",
    "import dask.array as da\n",
    "\n",
    "import matplotlib.pyplot as plt\n",
    "import hvplot.xarray\n",
    "import scipy.constants\n",
    "import scipy.signal as signal\n",
    "from bokeh.io import export_svg as b_export_svg\n",
    "import pickle\n",
    "import holoviews as hv\n",
    "\n",
    "sys.path.append(\"..\")\n",
    "import processing_dask as pr\n",
    "import plot_dask\n",
    "import processing as old_processing\n",
    "\n",
    "sys.path.append(\"../../preprocessing/\")\n",
    "from generate_chirp import generate_chirp\n",
    "\n",
    "from selenium import webdriver\n",
    "import chromedriver_binary  # Adds chromedriver binary to path"
   ]
  },
  {
   "cell_type": "code",
   "execution_count": null,
   "id": "a75d707f-0db1-461e-8e70-579c4a08cb20",
   "metadata": {},
   "outputs": [],
   "source": [
    "def export_svg(obj, filename):\n",
    "    plot_state = hv.renderer('bokeh').get_plot(obj).state\n",
    "    plot_state.output_backend = 'svg'\n",
    "    b_export_svg(plot_state, filename=filename)"
   ]
  },
  {
   "cell_type": "code",
   "execution_count": null,
   "id": "a0f40923",
   "metadata": {},
   "outputs": [],
   "source": [
    "matplotlib.rcParams.update({'font.size': 16})"
   ]
  },
  {
   "cell_type": "markdown",
   "id": "e70b6b7e-dcd8-4be1-b94c-a3cad899cd73",
   "metadata": {},
   "source": [
    "### Open and resave file"
   ]
  },
  {
   "cell_type": "code",
   "execution_count": null,
   "id": "7793fbfe-8a8c-47cc-b631-0534e3e1c19a",
   "metadata": {},
   "outputs": [],
   "source": [
    "# file path to data and configs\n",
    "#prefix = \"/Users/abroome/Documents/SDR/uhd_radar/data/20230710_095333\"\n",
    "#prefix = \"/Users/abroome/Desktop/McMurdo2022/11222022_anna/20221122_135614\"\n",
    "#prefix = \"/home/radioglaciolgy/anna/uhd_radar/data/20230719_103400\"\n",
    "#prefix = \"/Volumes/Extreme SSD/Summit2023/07232023_anna/20230723_151432\"\n",
    "#prefix = \"/Volumes/Extreme SSD/Summit2023/07252023_anna/20230725_161051\"\n",
    "#prefix = \"/Volumes/Extreme SSD/Summit2023/07292023_anna/20230729_154922\"\n",
    "\n",
    "#prefix = \"/Volumes/T7 Shield/Summit2023/08022023_anna/20230802_152434\"\n",
    "#prefix = \"/Volumes/T7 Shield/Summit2023/08042023_anna/20230804_155432\"\n",
    "#prefix = \"/Volumes/T7 Shield/Summit2023/08082023_anna/20230808_164554\"\n",
    "#prefix = \"/Volumes/T7 Shield/Summit2023/08082023_anna/20230808_181237\"\n",
    "#prefix = \"/Volumes/T7 Shield/Summit2023/07252023_anna/20230725_161051\"\n",
    "\n",
    "#prefix = \"/Volumes/T7 Shield/Summit2023/08022023_anna/20230802_152434\"\n",
    "#prefix = \"/Volumes/T7 Shield/Summit2023/08042023_anna/20230804_154502\"\n",
    "#prefix = \"/Volumes/T7 Shield/Summit2023/08042023_anna/20230804_155432\"\n",
    "\n",
    "#prefix = \"/Volumes/T7 Shield/Summit2023/08042023_anna/20230804_161102\"\n",
    "\n",
    "#prefix = \"/Volumes/Extreme SSD/lab_debugging/prf_data/raw/20231103_091920\"\n",
    "#prefix = \"/Volumes/Extreme SSD/lab_debugging/prf_data/raw/20231103_090157\"\n",
    "\n",
    "#prefix = \"/home/thomas/Documents/StanfordGrad/RadioGlaciology/eyas/radar_data/20231101_eyas_loopback_cal/20231101_200430\" # Eyas 1 (Green), w/ LNA and filters\n",
    "#prefix = \"/home/thomas/Documents/StanfordGrad/RadioGlaciology/eyas/radar_data/20231101_eyas_loopback_cal/20231101_210720\" # Eyas 1 (Green), NO LNA, w/ filters\n",
    "#prefix = \"/home/thomas/Documents/StanfordGrad/RadioGlaciology/eyas/radar_data/20231101_eyas_loopback_cal/20231101_211515\" # Eyas 1 (Green), NO LNA, NO FILTERS\n",
    "#prefix = \"/home/thomas/Documents/StanfordGrad/RadioGlaciology/eyas/radar_data/20231101_eyas_loopback_cal/20231101_202028\" # Eyas 2 (Black), w/ LNA and filters\n",
    "#prefix = \"/home/thomas/Documents/StanfordGrad/RadioGlaciology/eyas/radar_data/20231101_eyas_loopback_cal/20231101_203306\" # Eyas 3 (Yellow), w/ LNA and filters\n",
    "#prefix = \"/home/thomas/Documents/StanfordGrad/RadioGlaciology/eyas/radar_data/20231101_eyas_loopback_cal/20231101_204529\" # Eyas 4 (Orange), w/ LNA and filters\n",
    "#prefix = \"/home/thomas/Documents/StanfordGrad/RadioGlaciology/eyas/radar_data/20231101_eyas_loopback_cal/20231101_194641\" # Eyas 5 (Orange, Non-Field), No LNA or Filters\n",
    "#prefix = \"/home/thomas/Documents/StanfordGrad/RadioGlaciology/eyas/radar_data/20231101_eyas_loopback_cal/20231101_212724\" # Eyas 5 (Orange, Non-Field), No LNA or Filters, Repeat\n",
    "\n",
    "#prefix = \"/home/thomas/Documents/StanfordGrad/RadioGlaciology/drone/radar_data/orca_paper_data_files/phase_noise/b205/20240222_203345\"\n",
    "\n",
    "#prefix = \"/Volumes/T7 Shield/Summit2023/07252023_anna/20230725_161051\" # Anna field spectrogram\n",
    "#prefix = \"/Volumes/Extreme SSD/orca_paper_data_files/spectrogram/b205/20240226_195954\" # Thomas spectrogram, no phase dithering\n",
    "#prefix = \"/Volumes/Extreme SSD/orca_paper_data_files/spectrogram/b205/20240226_194526\" # Thomas spectrogram, phase dithering\n",
    "#prefix = \"/Volumes/Extreme SSD/orca_paper/20240226_105916\" # Anna loopback spectrogram, phase dithering\n",
    "#prefix = \"/Volumes/Extreme SSD/orca_paper/20240226_105437\" # Anna loopback spectrogram, no phase dithering\n",
    "prefix = \"/home/thomas/Documents/StanfordGrad/RadioGlaciology/drone/radar_data/20230723-summit-day3-2start/20230723_104248\"\n",
    "\n",
    "# resave data as zarr for dask processing\n",
    "zarr_base_location=\"/home/thomas/Documents/StanfordGrad/RadioGlaciology/test_tmp_zarr_cache/\"\n",
    "zarr_path = pr.save_radar_data_to_zarr(prefix, zarr_base_location=zarr_base_location)\n",
    "\n",
    "# open zarr file, adjust chunk size to be 10 MB - 1 GB based on sample rate/bit depth\n",
    "raw = xr.open_zarr(zarr_path, chunks={\"pulse_idx\": 1000})\n",
    "#raw = pr.invert_phase_dithering(raw, phase_codes_filename='/Users/abroome/Documents/SDR/uhd_radar/phases_1M.bin')\n"
   ]
  },
  {
   "cell_type": "markdown",
   "id": "6fb45450-15bd-4cf2-8311-709658955830",
   "metadata": {},
   "source": [
    "### Enter processing parameters"
   ]
  },
  {
   "cell_type": "code",
   "execution_count": null,
   "id": "38423415-95ee-450f-a1d6-7a0fe84a3e58",
   "metadata": {},
   "outputs": [],
   "source": [
    "#zero_sample_idx = 36 # X310, fs = 20 MHz\n",
    "zero_sample_idx = 63 # X310, fs = 50 MHz\n",
    "#zero_sample_idx = 81 # X310, fs = 100 MHz ????????\n",
    "#zero_sample_idx = 159 # B205mini, fs = 56 MHz\n",
    "#zero_sample_idx = 166 # B205mini, fs = 20 MHz\n",
    "\n",
    "nstack = 1 #len(raw.pulse_idx) # number of pulses to stack\n",
    "\n",
    "modify_rx_window = False # set to true if you want to window the reference chirp only on receive, false uses ref chirp as transmitted in config file\n",
    "rx_window = \"kaiser14\" # what you want to change the rx window to if modify_rx_window is true\n",
    "\n",
    "dielectric_constant = 3.17 # ice (air = 1, 66% velocity coax = 2.2957)\n",
    "#dielectric_constant = 2.2957 # COAX (air = 1, 66% velocity coax = 2.2957)\n",
    "sig_speed = scipy.constants.c / np.sqrt(dielectric_constant)"
   ]
  },
  {
   "cell_type": "markdown",
   "id": "b6ed8d87-89fa-4368-b5ca-ac5b6e6519f3",
   "metadata": {},
   "source": [
    "### Generate reference chirp"
   ]
  },
  {
   "cell_type": "code",
   "execution_count": null,
   "id": "707ddadf-7434-4cb4-906a-112b2c2ac3f0",
   "metadata": {},
   "outputs": [],
   "source": [
    "if modify_rx_window:\n",
    "    config = copy.deepcopy(raw.config)\n",
    "    config['GENERATE']['window'] = rx_window\n",
    "else:\n",
    "    config = raw.config\n",
    "    \n",
    "# config = copy.deepcopy(raw.config)\n",
    "# config['GENERATE']['lo_offset_sw'] = 12.5e6\n",
    "\n",
    "chirp_ts, ref_chirp = generate_chirp(config)"
   ]
  },
  {
   "cell_type": "markdown",
   "id": "b3fd7b34-72ad-4b65-9534-7a5b853ce430",
   "metadata": {},
   "source": [
    "### Filter reference chirp (optional)"
   ]
  },
  {
   "cell_type": "code",
   "execution_count": null,
   "id": "617d84c8-c591-4704-98cb-76bf83961c2a",
   "metadata": {},
   "outputs": [],
   "source": [
    "filter = signal.butter(1, 0.5e6, btype='highpass', output='sos', fs=config['GENERATE']['sample_rate'])\n",
    "\n",
    "ref_chirp = signal.sosfilt(filter, ref_chirp)"
   ]
  },
  {
   "cell_type": "markdown",
   "id": "4316fce6-9d32-4f90-99ee-c9aef2cc3a51",
   "metadata": {},
   "source": [
    "### View raw pulse in time domain to check for clipping"
   ]
  },
  {
   "cell_type": "code",
   "execution_count": null,
   "id": "19228216-c7f0-4f7c-a5c2-d63dc4973942",
   "metadata": {},
   "outputs": [],
   "source": [
    "#plot1 = np.real(raw.radar_data[:,0]).hvplot.line(x='fast_time', label='Real') * np.imag(raw.radar_data[:,0]).hvplot.line(x='fast_time', label='Imaginary')\n",
    "plot1 = np.real(raw.radar_data[:,482500]).hvplot.line(x='fast_time', label='Real') * np.imag(raw.radar_data[:,482500]).hvplot.line(x='fast_time', label='Imaginary')\n",
    "\n",
    "plot1 = plot1.opts(xlabel='Fast Time (s)', ylabel='Raw Amplitude')\n",
    "plot1"
   ]
  },
  {
   "cell_type": "code",
   "execution_count": null,
   "id": "448675ad-15e8-4170-b15c-76cc46beefe2",
   "metadata": {},
   "outputs": [],
   "source": [
    "plot1 = np.real(raw.radar_data[:,490000]).hvplot.line(x='fast_time', label='Real') * np.imag(raw.radar_data[:,490000]).hvplot.line(x='fast_time', label='Imaginary')\n",
    "\n",
    "plot1 = plot1.opts(xlabel='Fast Time (s)', ylabel='Raw Amplitude')\n",
    "plot1"
   ]
  },
  {
   "cell_type": "code",
   "execution_count": null,
   "id": "a46b3eaf-eb30-4f26-8590-d1ba1aee21ae",
   "metadata": {},
   "outputs": [],
   "source": [
    "idx1 = 482500\n",
    "idx2 = 490000\n",
    "\n",
    "plot1 = np.real(raw.radar_data[:,idx1] - raw.radar_data[:,idx2]).hvplot.line(x='fast_time', label='Real Diff') * np.imag(raw.radar_data[:,idx1] - raw.radar_data[:,idx2]).hvplot.line(x='fast_time', label='Imaginary Diff')\n",
    "\n",
    "plot1 = plot1.opts(xlabel='Fast Time (s)', ylabel='Raw Amplitude', title=f\"{raw.basename} pulse_idx: {idx1} - {idx2}\")\n",
    "plot1"
   ]
  },
  {
   "cell_type": "code",
   "execution_count": null,
   "id": "59346788-af88-4eed-9a5b-5543101a4691",
   "metadata": {},
   "outputs": [],
   "source": [
    "hvplot.save(plot1, f'/Users/abroome/Desktop/Summit2023/figs/{raw.basename}_pulse_idxs_{idx1}_{idx2}.html')"
   ]
  },
  {
   "cell_type": "code",
   "execution_count": null,
   "id": "2aade458-6525-4bcc-903f-3756ddf350f8",
   "metadata": {},
   "outputs": [],
   "source": [
    "#subsampled_data = raw[\"radar_data\"][:,::100]\n",
    "real_max = xr.apply_ufunc(\n",
    "                lambda x: np.abs(np.real(x)),\n",
    "                raw,\n",
    "                dask=\"parallelized\"\n",
    "            ).max(dim='sample_idx')\n",
    "imag_max = xr.apply_ufunc(\n",
    "                lambda x: np.abs(np.imag(x)),\n",
    "                raw,\n",
    "                dask=\"parallelized\"\n",
    "            ).max(dim='sample_idx')\n",
    "gain_plot = real_max.hvplot.line(label='Abs max of real part') * imag_max.hvplot.line(label='Abs max of imag part')\n",
    "gain_plot.opts(title=f'{raw.basename}', ylabel='Amplitude')\n",
    "gain_plot"
   ]
  },
  {
   "cell_type": "markdown",
   "id": "9b85eb39-f0f8-4329-83ce-456af3345685",
   "metadata": {},
   "source": [
    "### Clean and stack data"
   ]
  },
  {
   "cell_type": "code",
   "execution_count": null,
   "id": "fbe3f084-f365-4ff0-b9cf-8b0c070087c2",
   "metadata": {},
   "outputs": [],
   "source": [
    "stacked = pr.fill_errors(raw, error_fill_value=0.0) # fill receiver errors with 0s\n",
    "\n",
    "stacked = pr.stack(raw, nstack) # stack "
   ]
  },
  {
   "cell_type": "markdown",
   "id": "e2bcc4b2-c7f9-4cc3-b5fb-a60468d6715e",
   "metadata": {},
   "source": [
    "### Filter LO out of received data (optional)"
   ]
  },
  {
   "cell_type": "code",
   "execution_count": null,
   "id": "44598967-fe5b-4283-a741-4c66fd121c17",
   "metadata": {},
   "outputs": [],
   "source": [
    "filt_hp = signal.butter(1, 0.5e6, btype='highpass', output='sos', fs=config['GENERATE']['sample_rate'])\n",
    "\n",
    "filtered = xr.apply_ufunc(\n",
    "    lambda x: signal.sosfilt(filt_hp, x),\n",
    "    stacked,\n",
    "    dask=\"parallelized\"\n",
    ")\n",
    "\n",
    "#filtered = signal.sosfilt(filt_hp, stacked.radar_data)\n",
    "\n",
    "# output_len = raw[\"radar_data\"].shape[0]\n",
    "# travel_time = np.linspace(0, output_len/config['GENERATE']['sample_rate'], output_len)\n",
    "# travel_time = travel_time - travel_time[zero_sample_idx]\n",
    "\n",
    "# coords = {\"travel_time\": travel_time}\n",
    "# if sig_speed is not None:\n",
    "#     coords['reflection_distance'] = (\"travel_time\", travel_time * (sig_speed/2))\n",
    "\n",
    "# filtered = xr.apply_ufunc(\n",
    "#     lambda x: scipy.sosfilt(filt_hp, x),\n",
    "#     stacked,\n",
    "#     input_core_dims=[['sample_idx']], # The dimension operated over -- aka \"don't vectorize over this\"\n",
    "#     #output_core_dims=[[\"travel_time\"]], # The output dimensions of the lambda function itself\n",
    "#     exclude_dims=set((\"sample_idx\",)), # Dimensions to not vectorize over\n",
    "#     vectorize=True, # Vectorize other dimensions using a call to np.vectorize\n",
    "#     dask=\"parallelized\", # Allow dask to chunk and parallelize the computation\n",
    "#     output_dtypes=[raw[\"radar_data\"].dtype], # Needed for dask: explicitly provide the output dtype\n",
    "#     #dask_gufunc_kwargs={\"output_sizes\": {'travel_time': output_len}} # Also needed for dask:\n",
    "#     # explicitly provide the output size of the lambda function. See\n",
    "#     # https://docs.dask.org/en/stable/generated/dask.array.gufunc.apply_gufunc.html\n",
    "# ).assign_coords(coords) # And finally add coordinate(s) corresponding to the new \"travel_time\" dimension\n",
    "\n",
    "# # Save the input parameters for future reference\n",
    "# filtered.attrs[\"filter_lo\"]={\n",
    "#         \"fs\": config['GENERATE']['sample_rate'], \"chirp\": ref_chirp, \"zero_sample_idx\": zero_sample_idx, \"signal_speed\": sig_speed}"
   ]
  },
  {
   "cell_type": "code",
   "execution_count": null,
   "id": "33e487fc-1693-41fd-b7c4-345fe2cce5df",
   "metadata": {},
   "outputs": [],
   "source": [
    "freqs_filt, h = signal.sosfreqz(filt_hp, fs=config['GENERATE']['sample_rate'])\n",
    "\n",
    "# Plot magnitude response of the filter\n",
    "fig = plt.figure()\n",
    "plt.plot(freqs_filt/(1e6), 20 * np.log10(abs(h)),\n",
    "         'r', label='Bandpass filter', linewidth='2')\n",
    "plt.xlabel('Frequency [MHz]', fontsize=20)\n",
    "plt.ylabel('Magnitude [dB]', fontsize=20)\n",
    "plt.title('Filter', fontsize=20)\n",
    "plt.grid()"
   ]
  },
  {
   "cell_type": "markdown",
   "id": "536a830d-9022-46ef-86c2-38578ce27a38",
   "metadata": {},
   "source": [
    "### Pulse compress data"
   ]
  },
  {
   "cell_type": "code",
   "execution_count": null,
   "id": "3affa606-7ff1-4a0f-b919-acb0cbe591a3",
   "metadata": {},
   "outputs": [],
   "source": [
    "compressed = pr.pulse_compress(stacked, ref_chirp,\n",
    "                               fs=stacked.config['GENERATE']['sample_rate'],\n",
    "                               zero_sample_idx=zero_sample_idx,\n",
    "                               signal_speed=sig_speed)\n",
    "\n",
    "compressed_power = xr.apply_ufunc(\n",
    "    lambda x: 20*np.log10(np.abs(x)),\n",
    "    compressed,\n",
    "    dask=\"parallelized\"\n",
    ")"
   ]
  },
  {
   "cell_type": "markdown",
   "id": "0aa6043e-c392-437f-89bf-7a104240ec36",
   "metadata": {},
   "source": [
    "### View 1D pulse compressed data"
   ]
  },
  {
   "cell_type": "code",
   "execution_count": null,
   "id": "5347ab15-9815-4564-be5c-e4331947a102",
   "metadata": {},
   "outputs": [],
   "source": [
    "plot1D = compressed_power.radar_data[0,:].compute().hvplot.line()\n",
    "#plot1D = plot1D * compressed_power.radar_data[0,:].hvplot.line()\n",
    "# relevant options: xlim(-80,1000)\n",
    "\n",
    "plot1D = plot1D.opts(xlabel='Reflection Distance (m)', ylabel='Return Power (dB)', title=raw.basename)\n",
    "plot1D.opts(xlim=(-50,200), ylim=(-120, -40), show_grid=True)\n",
    "plot1D"
   ]
  },
  {
   "cell_type": "code",
   "execution_count": null,
   "id": "968b75fb-3e78-4fe8-a739-9b487da30edb",
   "metadata": {},
   "outputs": [],
   "source": [
    "# hvplot.extension('bokeh')\n",
    "# plot1D.fig_size=(10,8)\n",
    "#hvplot.save(plot1D, raw.basename+'_pulse_compressed.svg', fmt='svg')\n",
    "#export_svg(plot1D, filename='/Desktop/Summit2023/figs/'+raw.basename+'_pulse_compressed.svg') # works\n",
    "hvplot.save(plot1D, f'/Users/abroome/Desktop/Summit2023/figs/{raw.basename}_pulse_compressed_n{nstack}_lo_offset.html')\n",
    "\n",
    "fname = f'/Users/abroome/Desktop/Summit2023/figs/{raw.basename}_pulse_compressed_n{nstack}_lo_offset.pickle'\n",
    "\n",
    "with open(fname, 'wb') as f:\n",
    "    pickle.dump({'plot': plot1D, 'basename': raw.basename, 'nstack': nstack, 'pc': compressed_power.radar_data[0,:].compute()}, f)"
   ]
  },
  {
   "cell_type": "code",
   "execution_count": null,
   "id": "043f6255-382a-4c4d-b95a-7227e539c9f8",
   "metadata": {},
   "outputs": [],
   "source": [
    "# USING MATPLOTLIB\n",
    "fig, ax = plt.subplots(1,1, figsize=(10,6), facecolor='white')\n",
    "ax.plot(compressed_power.reflection_distance, compressed_power.radar_data[0,:])\n",
    "ax.set_xlabel('Depth (m)')\n",
    "ax.set_ylabel('Return Power (dB)')\n",
    "ax.set_title(raw.basename)\n",
    "\n",
    "fig.savefig(f'/Users/abroome/Desktop/Summit2023/figs/{raw.basename}_pulse_compressed_n{nstack}.png', dpi=300)"
   ]
  },
  {
   "cell_type": "markdown",
   "id": "1981eed7-0a04-4013-ae25-503009b1d7f2",
   "metadata": {},
   "source": [
    "### View 2D pulse compressed data (radargram)"
   ]
  },
  {
   "cell_type": "code",
   "execution_count": null,
   "id": "52502998-2657-489a-b093-31ca3263dda6",
   "metadata": {},
   "outputs": [],
   "source": [
    "# USING HOLOVIEWS (sometimes breaks)\n",
    "plot2D = compressed_power.swap_dims({'pulse_idx': 'slow_time', 'travel_time': 'reflection_distance'}).hvplot.quadmesh(x='slow_time', cmap='inferno', ylim=(-50,1500), flip_yaxis=True)\n",
    "# relevant options: ylim=(100,-50), clim=(-90,-40)\n",
    "\n",
    "plot2D.opts(xlabel='Slow Time (s)', ylabel='Depth (m)', clabel='Return Power (dB)')\n",
    "plot2D.opts(ylim=(-10, 70), clim=(-120, -40))"
   ]
  },
  {
   "cell_type": "code",
   "execution_count": null,
   "id": "306dc22e-7ae4-4d59-a84a-969f98e5f305",
   "metadata": {},
   "outputs": [],
   "source": [
    "# USING MATPLOTLIB (sometimes takes a while)\n",
    "fig, ax = plt.subplots(1,1, figsize=(10,6), facecolor='white')\n",
    "\n",
    "p = ax.pcolormesh(compressed_power.slow_time, compressed_power.reflection_distance, compressed_power.radar_data.transpose(), shading='auto', cmap='inferno')\n",
    "ax.invert_yaxis()\n",
    "clb = fig.colorbar(p, ax=ax)\n",
    "clb.set_label('Return Power (dB)')\n",
    "ax.set_xlabel('Slow Time (s)')\n",
    "ax.set_ylabel('Distance to Reflector (m)')\n",
    "ax.set_title(f'{raw.basename}: nstack={nstack}')\n",
    "# relevant options: ax.set_ylim(100,-50), ax.set_xlim(0, 1), vmin=-90, vmax=40\n",
    "ax.set_ylim(1500,-50)"
   ]
  },
  {
   "cell_type": "markdown",
   "id": "bbf58a46-2217-48d2-9c19-60021159567d",
   "metadata": {},
   "source": [
    "### View spectrogram of stacked data"
   ]
  },
  {
   "cell_type": "code",
   "execution_count": null,
   "id": "4e91cd22-855c-444f-842e-cacae16279e9",
   "metadata": {},
   "outputs": [],
   "source": [
    "inpt = raw\n",
    "inpt[\"radar_data\"].shape"
   ]
  },
  {
   "cell_type": "code",
   "execution_count": null,
   "id": "68294208-c1ed-45db-82c9-b239a383f719",
   "metadata": {},
   "outputs": [],
   "source": [
    "# data = stacked[\"radar_data\"].to_numpy()\n",
    "n = 1000000\n",
    "normalize = True\n",
    "\n",
    "pulse = pr.stack(inpt, n)[{'pulse_idx':0}][\"radar_data\"].to_numpy()\n",
    "\n",
    "f, t, S = scipy.signal.spectrogram(\n",
    "    pulse,\n",
    "    fs=raw.attrs[\"config\"][\"GENERATE\"][\"sample_rate\"],\n",
    "    window='flattop',\n",
    "    nperseg=128,\n",
    "    noverlap=64,\n",
    "    scaling='density', mode='psd',\n",
    "    return_onesided=False\n",
    ")\n",
    "\n",
    "if normalize:\n",
    "    S /= np.max(S)"
   ]
  },
  {
   "cell_type": "code",
   "execution_count": null,
   "id": "1629b3d5-c7b3-46eb-987b-fee76b1c62c5",
   "metadata": {},
   "outputs": [],
   "source": [
    "fig, ax = plt.subplots(facecolor='white', figsize=(10,6))\n",
    "freq_mhz = (np.fft.fftshift(f) + raw.attrs['config']['RF0']['freq']) / 1e6\n",
    "pcm = ax.pcolormesh(t, freq_mhz, 10*np.log10(np.abs(np.fft.fftshift(S, axes=0))), shading='nearest') #  vmin=-420, vmax=-200\n",
    "clb = fig.colorbar(pcm, ax=ax)\n",
    "clb.set_label('Power [dB]')\n",
    "ax.set_xlabel('Time [s]')\n",
    "ax.set_ylabel('Frequency [MHz]')\n",
    "#ax.set_title(f\"Spectrogram of received data with n_stack={n}\")\n",
    "ax.text(0, 1.05, prefix.split(\"/\")[-1] + \"\\n\" + f\"n_stack * num_presums = {n * num_presums}\", horizontalalignment='left', verticalalignment='center', transform=ax.transAxes, fontdict={'size': 12})\n",
    "fig.tight_layout()\n",
    "plt.show()"
   ]
  },
  {
   "cell_type": "code",
   "execution_count": null,
   "id": "58adf8be-70c6-4dea-a848-4a46056859e7",
   "metadata": {},
   "outputs": [],
   "source": [
    "fig.savefig(f\"orca_paper/outputs/{raw.basename}_ft_spectrogram_n{n}.png\", dpi=300)"
   ]
  },
  {
   "cell_type": "markdown",
   "id": "3954e602-4fb8-41cc-a627-6d3a116bf0f1",
   "metadata": {},
   "source": [
    "### View Power Spectrum of All Received Data"
   ]
  },
  {
   "cell_type": "code",
   "execution_count": null,
   "id": "48418de1-e64f-4597-b40a-1ea8ee85e2f6",
   "metadata": {},
   "outputs": [],
   "source": [
    "single_stack = pr.stack(raw, raw.radar_data.shape[1])\n",
    "\n",
    "data_tx_fft = da.fft.fft(ref_chirp, n=raw.radar_data.shape[0]) / raw.radar_data.shape[0]\n",
    "data_rx_fft = da.fft.fft(raw.radar_data, axis=0) / raw.radar_data.shape[0]\n",
    "stacked_fft = da.fft.fft(stacked.radar_data, axis=0) / stacked.radar_data.shape[0]\n",
    "full_fft = da.fft.fft(single_stack.radar_data, axis=0) / single_stack.radar_data.shape[0]\n",
    "\n",
    "data_tx_fft_pwr = 20*da.log10(da.abs(data_tx_fft))\n",
    "data_rx_fft_pwr = 20*da.log10(da.abs(data_rx_fft))\n",
    "stacked_fft_pwr = 20*da.log10(da.abs(stacked_fft))\n",
    "full_fft_pwr = 20*da.log10(da.abs(full_fft))\n",
    "\n",
    "#data_rx_fft_pwr.shape"
   ]
  },
  {
   "cell_type": "code",
   "execution_count": null,
   "id": "1f759818-3cbd-41b3-af37-ceca9398e1fc",
   "metadata": {},
   "outputs": [],
   "source": [
    "data_tx_fft = da.fft.fft(ref_chirp, n=raw.radar_data.shape[0]) / raw.radar_data.shape[0]\n",
    "#data_rx_fft = da.fft.fft(filtered.radar_data, axis=0) / filtered.radar_data.shape[0]\n",
    "#filtered_fft = np.fft.fft(filtered) / filtered.shape[0]\n",
    "stacked_fft = da.fft.fft(stacked.radar_data, axis=0) / stacked.radar_data.shape[0]\n",
    "\n",
    "data_tx_fft_pwr = 20*da.log10(da.abs(data_tx_fft))\n",
    "#data_rx_fft_pwr = 20*da.log10(da.abs(data_rx_fft))\n",
    "#filtered_fft_pwr = 20*np.log10(np.abs(filtered_fft))\n",
    "stacked_fft_pwr = 20*da.log10(da.abs(stacked_fft))\n"
   ]
  },
  {
   "cell_type": "code",
   "execution_count": null,
   "id": "f0b5c37c-423c-41f4-bcde-05b2e9bf7f9e",
   "metadata": {},
   "outputs": [],
   "source": [
    "normal_pulse_fft = np.fft.fftshift(20*np.log10(np.abs(np.fft.fft(raw.radar_data[:,339630]))))\n",
    "weird_pulse_fft = np.fft.fftshift(20*np.log10(np.abs(np.fft.fft(raw.radar_data[:,339631]))))\n",
    "\n",
    "fig, axs = plt.subplots(facecolor='white', figsize=(10,6))\n",
    "freqs = np.fft.fftshift(np.fft.fftfreq(normal_pulse_fft.shape[0], d=1/raw.config['GENERATE']['sample_rate']))\n",
    "axs.plot(freqs/1e6, normal_pulse_fft, label='Normal Pulse')\n",
    "axs.plot(freqs/1e6, weird_pulse_fft, label='Weird Pulse')\n",
    "axs.set_xlabel('Frequency [MHz]')\n",
    "axs.set_ylabel('Power [dB]')\n",
    "axs.set_title('Spectrum -- Power')\n",
    "axs.grid()\n",
    "axs.legend()"
   ]
  },
  {
   "cell_type": "code",
   "execution_count": null,
   "id": "263ebb96-9e43-4b86-99a5-533e24aa7d10",
   "metadata": {},
   "outputs": [],
   "source": [
    "# fig, axs = plt.subplots(2,1)\n",
    "fig, axs = plt.subplots(facecolor='white', figsize=(10,6))\n",
    "freqs = np.fft.fftshift(np.fft.fftfreq(data_rx_fft_pwr.shape[0], d=1/raw.config['GENERATE']['sample_rate']))\n",
    "axs.plot(freqs/1e6, np.fft.fftshift(data_tx_fft_pwr), label='Transmitted Pulse')\n",
    "axs.plot(freqs/1e6, np.fft.fftshift(data_rx_fft_pwr[:,0]), label='Single Pulse')\n",
    "axs.plot(freqs/1e6, np.fft.fftshift(stacked_fft_pwr[:,0]), label=f'Single Stack: n = {nstack}')\n",
    "#axs.plot(freqs/1e6, np.fft.fftshift(filtered_fft_pwr), label='filtered')\n",
    "axs.plot(freqs/1e6, np.fft.fftshift(full_fft_pwr[:,0]), label=f'Full File: n = {raw.radar_data.shape[1]}')\n",
    "axs.set_xlabel('Frequency [MHz]')\n",
    "axs.set_ylabel('Power [dB]')\n",
    "axs.set_title(f'{raw.basename} Spectrum -- Power')\n",
    "axs.grid()\n",
    "axs.legend()\n",
    "\n",
    "# axs[1].plot(freqs/1e6, np.fft.fftshift(np.angle(data_rx_fft[:,0])))\n",
    "# axs[1].plot(freqs/1e6, np.fft.fftshift(np.angle(stacked_fft[:,0])))\n",
    "# axs[1].plot(freqs/1e6, np.fft.fftshift(np.angle(full_fft[:,0])))\n",
    "# axs[1].set_xlabel('Frequency [MHz]')\n",
    "# axs[1].set_ylabel('Phase [rad]')\n",
    "# axs[1].set_title('Spectrum -- Phase')\n",
    "# axs[1].grid()\n",
    "# fig.tight_layout()"
   ]
  },
  {
   "cell_type": "code",
   "execution_count": null,
   "id": "4f999e73-f4a5-4783-bfb4-db452be1dcff",
   "metadata": {},
   "outputs": [],
   "source": [
    "fig.savefig(f\"/Users/abroome/Desktop/Summit2023/figs/{raw.basename}_rx_spectrum.png\")"
   ]
  }
 ],
 "metadata": {
  "kernelspec": {
   "display_name": "sprinkles",
   "language": "python",
   "name": "sprinkles"
  },
  "language_info": {
   "codemirror_mode": {
    "name": "ipython",
    "version": 3
   },
   "file_extension": ".py",
   "mimetype": "text/x-python",
   "name": "python",
   "nbconvert_exporter": "python",
   "pygments_lexer": "ipython3",
   "version": "3.9.7"
  }
 },
 "nbformat": 4,
 "nbformat_minor": 5
}
